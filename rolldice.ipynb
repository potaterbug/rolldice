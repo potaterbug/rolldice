{
 "cells": [
  {
   "cell_type": "code",
   "execution_count": null,
   "metadata": {},
   "outputs": [],
   "source": [
    "def RollTheDice():\n",
    "\n",
    "    import random\n",
    "\n",
    "    diceNumbers = [1,2,3,4,5,6]\n",
    "    \n",
    "    diceRollNumber = 1\n",
    "\n",
    "    keepRolling = True\n",
    "    \n",
    "    while keepRolling == True:\n",
    "    \n",
    "        dice1 = random.choice(diceNumbers)\n",
    "        dice2 = random.choice(diceNumbers)\n",
    "        \n",
    "        print(\"Roll#\", diceRollNumber, \":\", dice1, dice2, dice1+dice2)\n",
    "        \n",
    "        if dice1 != dice2:\n",
    "            keepRolling = False\n",
    "        else:\n",
    "            diceRollNumber = diceRollNumber + 1\n",
    "            if diceRollNumber == 4:\n",
    "                keepRolling = False\n",
    "                print(\"You rolled doubles three times, off to Jail you go!\")\n",
    "    \n",
    "    print(\"done\")\n",
    "        \n",
    "RollTheDice()"
   ]
  }
 ],
 "metadata": {
  "kernelspec": {
   "display_name": "Python 3",
   "language": "python",
   "name": "python3"
  },
  "language_info": {
   "codemirror_mode": {
    "name": "ipython",
    "version": 3
   },
   "file_extension": ".py",
   "mimetype": "text/x-python",
   "name": "python",
   "nbconvert_exporter": "python",
   "pygments_lexer": "ipython3",
   "version": "3.7.6"
  }
 },
 "nbformat": 4,
 "nbformat_minor": 4
}
